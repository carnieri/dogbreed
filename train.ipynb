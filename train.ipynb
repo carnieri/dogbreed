{
 "cells": [
  {
   "cell_type": "code",
   "execution_count": null,
   "metadata": {},
   "outputs": [],
   "source": [
    "from fastai.vision.all import *\n",
    "import torchvision.models as models\n",
    "import matplotlib.pyplot as plt\n",
    "\n",
    "from utils import label_func\n",
    "\n",
    "print(\"cuda.is_available: {}\".format(torch.cuda.is_available()))\n",
    "set_seed(1234)"
   ]
  },
  {
   "cell_type": "code",
   "execution_count": null,
   "metadata": {},
   "outputs": [],
   "source": [
    "def load_data(path, size=224):\n",
    "    fnames = get_image_files(path)\n",
    "    item_tfms = [ToTensor()]\n",
    "    if size is not None:\n",
    "        item_tfms.append(Resize(size))\n",
    "    dls = ImageDataLoaders.from_path_func(\n",
    "        path,\n",
    "        fnames,\n",
    "        label_func,\n",
    "        item_tfms=item_tfms,\n",
    "        bs=64,\n",
    "    )\n",
    "    return dls\n",
    "    \n",
    "path = \"dogs/train/\"\n",
    "\n",
    "dls = load_data(path)"
   ]
  },
  {
   "cell_type": "code",
   "execution_count": null,
   "metadata": {},
   "outputs": [],
   "source": [
    "dls.show_batch()"
   ]
  },
  {
   "cell_type": "markdown",
   "metadata": {},
   "source": [
    "## Train classifier for dog breeds"
   ]
  },
  {
   "cell_type": "code",
   "execution_count": null,
   "metadata": {},
   "outputs": [],
   "source": [
    "learn = cnn_learner(dls, models.resnext50_32x4d, cut=-1, pretrained=True, metrics=accuracy)"
   ]
  },
  {
   "cell_type": "code",
   "execution_count": null,
   "metadata": {
    "scrolled": true
   },
   "outputs": [],
   "source": [
    "lr_min = learn.lr_find()\n",
    "print(lr_min.valley)"
   ]
  },
  {
   "cell_type": "code",
   "execution_count": null,
   "metadata": {},
   "outputs": [],
   "source": [
    "learn.fit_one_cycle(\n",
    "    5,\n",
    "    lr_min.valley,\n",
    "    cbs=[SaveModelCallback(monitor=\"accuracy\")]\n",
    ")"
   ]
  },
  {
   "cell_type": "code",
   "execution_count": null,
   "metadata": {},
   "outputs": [],
   "source": [
    "learn.recorder.plot_loss(skip_start=200)"
   ]
  },
  {
   "cell_type": "code",
   "execution_count": null,
   "metadata": {},
   "outputs": [],
   "source": [
    "learn.recorder.plot_sched()"
   ]
  },
  {
   "cell_type": "code",
   "execution_count": null,
   "metadata": {},
   "outputs": [],
   "source": [
    "learn.show_results()"
   ]
  },
  {
   "cell_type": "code",
   "execution_count": null,
   "metadata": {},
   "outputs": [],
   "source": [
    "learn.export(\"exported_resnext50_32x4d.pickle\")"
   ]
  },
  {
   "cell_type": "markdown",
   "metadata": {},
   "source": [
    "## Use trained model to predict the class of some images"
   ]
  },
  {
   "cell_type": "code",
   "execution_count": null,
   "metadata": {},
   "outputs": [],
   "source": [
    "paths = get_image_files(\"dogs/train/\")"
   ]
  },
  {
   "cell_type": "code",
   "execution_count": null,
   "metadata": {},
   "outputs": [],
   "source": [
    "def test(path):\n",
    "    img = PILImage.create(path)\n",
    "    pred, pred_ix, probs = learn.predict(img)\n",
    "    print(f\"Groundtruth class: {path.parent.name}\")\n",
    "    print(f\"Predicted class:   {pred} with prob {probs[pred_ix]}\")\n",
    "    show_image(img)"
   ]
  },
  {
   "cell_type": "code",
   "execution_count": null,
   "metadata": {},
   "outputs": [],
   "source": [
    "test(paths[0])"
   ]
  },
  {
   "cell_type": "code",
   "execution_count": null,
   "metadata": {},
   "outputs": [],
   "source": [
    "test(paths[200])"
   ]
  },
  {
   "cell_type": "code",
   "execution_count": null,
   "metadata": {},
   "outputs": [],
   "source": [
    "test(paths[400])"
   ]
  }
 ],
 "metadata": {
  "kernelspec": {
   "display_name": "dog",
   "language": "python",
   "name": "dog"
  },
  "language_info": {
   "codemirror_mode": {
    "name": "ipython",
    "version": 3
   },
   "file_extension": ".py",
   "mimetype": "text/x-python",
   "name": "python",
   "nbconvert_exporter": "python",
   "pygments_lexer": "ipython3",
   "version": "3.8.10"
  }
 },
 "nbformat": 4,
 "nbformat_minor": 4
}
