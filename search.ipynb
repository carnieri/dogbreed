{
 "cells": [
  {
   "cell_type": "code",
   "execution_count": null,
   "id": "48ea2d60",
   "metadata": {},
   "outputs": [],
   "source": [
    "from fastai.vision.all import *\n",
    "\n",
    "from utils import get_embedding, label_func\n",
    "\n",
    "from importlib import reload\n",
    "import search\n",
    "reload(search)\n",
    "from search import FaissImageSearch, search_from_path, search_accuracy, plot_results, calculate_rejection_accuracy\n",
    "\n",
    "import matplotlib.pyplot as plt\n",
    "plt.ion()"
   ]
  },
  {
   "cell_type": "code",
   "execution_count": null,
   "id": "531a1729",
   "metadata": {},
   "outputs": [],
   "source": [
    "learn = load_learner(\"models/exported_resnext50_32x4d.pickle\")\n",
    "searcher = FaissImageSearch(learn)"
   ]
  },
  {
   "cell_type": "code",
   "execution_count": null,
   "id": "da3e09e0",
   "metadata": {},
   "outputs": [],
   "source": [
    "enroll_paths = get_image_files(\"dogs/recognition/enroll/\")\n",
    "enroll_class_names = [label_func(p) for p in enroll_paths]\n",
    "enroll_imgs = [PILImage.create(p) for p in enroll_paths]"
   ]
  },
  {
   "cell_type": "code",
   "execution_count": null,
   "id": "426c67a5",
   "metadata": {
    "scrolled": true
   },
   "outputs": [],
   "source": [
    "searcher.enroll_many(enroll_imgs, enroll_class_names)\n",
    "searcher.dump(\"models\")"
   ]
  },
  {
   "cell_type": "code",
   "execution_count": null,
   "id": "ffc0c64c",
   "metadata": {},
   "outputs": [],
   "source": [
    "test_paths = get_image_files(\"dogs/recognition/test/\")\n",
    "test_class_names = [label_func(p) for p in test_paths]\n",
    "test_imgs = [PILImage.create(p) for p in test_paths]"
   ]
  },
  {
   "cell_type": "code",
   "execution_count": null,
   "id": "3985b6bc",
   "metadata": {},
   "outputs": [],
   "source": [
    "# test_embeddings = get_embedding(searcher.learn, searcher.embedder, test_imgs)\n",
    "# Path(\"cache\").mkdir(exist_ok=True)\n",
    "# pickle.dump(test_embeddings, open(\"cache/test_embeddings.pickle\", \"wb\"))\n",
    "test_embeddings = pickle.load(open(\"cache/test_embeddings.pickle\", \"rb\"))"
   ]
  },
  {
   "cell_type": "code",
   "execution_count": null,
   "id": "6b8862f2",
   "metadata": {},
   "outputs": [],
   "source": [
    "# search_from_path(searcher, test_paths[100])"
   ]
  },
  {
   "cell_type": "code",
   "execution_count": null,
   "id": "ffbcb8d4",
   "metadata": {},
   "outputs": [],
   "source": [
    "# calculate test accuracy for some values of hyperparameter k\n",
    "# k is the number of nearest neighbors used when searching\n",
    "ks = [1,3,5,7,9]\n",
    "test_accs = []\n",
    "for k in ks:\n",
    "    acc, dist_all, dist_correct, dist_incorrect, dist_empty = search_accuracy(\n",
    "        searcher, test_embeddings, test_class_names, k=k, threshold=0.78)\n",
    "    test_accs.append(acc)\n",
    "    print(f\"k: {k}  test_acc: {acc:.04f}\")\n",
    "plt.plot(ks, test_accs)\n",
    "plt.xlabel(\"k\")\n",
    "plt.ylabel(\"accuracy\")\n",
    "plt.title(\"Test accuracy as function of k\")\n",
    "plt.show()"
   ]
  },
  {
   "cell_type": "markdown",
   "id": "51f6aa97",
   "metadata": {},
   "source": [
    "## Plot distances"
   ]
  },
  {
   "cell_type": "code",
   "execution_count": null,
   "id": "ec7325e6",
   "metadata": {},
   "outputs": [],
   "source": [
    "plot_results(searcher, test_imgs, test_embeddings, test_class_names)"
   ]
  },
  {
   "cell_type": "markdown",
   "id": "e7832eb3",
   "metadata": {},
   "source": [
    "## Find suitable distance threshold"
   ]
  },
  {
   "cell_type": "code",
   "execution_count": null,
   "id": "3e6d9b68",
   "metadata": {},
   "outputs": [],
   "source": [
    "# k = 5\n",
    "# accs = []\n",
    "# # threshs = np.linspace(0.7, 0.8, num=50, endpoint=False)\n",
    "# threshs = [0.85]\n",
    "# for thresh in threshs:\n",
    "#     acc, dist_all, dist_correct, dist_incorrect, dist_empty = search_accuracy(\n",
    "#         searcher,\n",
    "#         test_imgs,\n",
    "#         test_embeddings,\n",
    "#         test_class_names,\n",
    "#         k=k,\n",
    "#         threshold=thresh\n",
    "#     )\n",
    "#     accs.append(acc)\n",
    "#     print(f\"k: {k}  thresh: {thresh:.04f}  acc: {acc:.04f}\")\n",
    "# plt.plot(threshs, accs)\n",
    "# plt.show()"
   ]
  },
  {
   "cell_type": "markdown",
   "id": "ed846e78",
   "metadata": {},
   "source": [
    "## Search for unknown breed"
   ]
  },
  {
   "cell_type": "code",
   "execution_count": null,
   "id": "d1c8430b",
   "metadata": {},
   "outputs": [],
   "source": [
    "print(\"cuda.is_available: {}\".format(torch.cuda.is_available()))\n",
    "set_seed(1234)"
   ]
  },
  {
   "cell_type": "code",
   "execution_count": null,
   "id": "927b2784",
   "metadata": {},
   "outputs": [],
   "source": [
    "def load_data(path):\n",
    "    # for each image file, parent folder's name will be used as label\n",
    "    dls = ImageDataLoaders.from_folder(\n",
    "        path,\n",
    "        valid_pct=0.2,\n",
    "        item_tfms=Resize(224),\n",
    "        bs=64,\n",
    "    )\n",
    "    return dls\n",
    "    \n",
    "path = \"dogs/train/\"\n",
    "\n",
    "dls = load_data(path)"
   ]
  },
  {
   "cell_type": "code",
   "execution_count": null,
   "id": "cac7a724",
   "metadata": {},
   "outputs": [],
   "source": [
    "unknown_paths = dls.valid.items\n",
    "unknown_class_names = [label_func(p) for p in unknown_paths]\n",
    "unknown_imgs = [PILImage.create(p) for p in unknown_paths]\n",
    "# unknown_embeddings = get_embedding(searcher.learn, searcher.embedder, unknown_imgs)\n",
    "# pickle.dump(unknown_embeddings, open(\"cache/unknown_embeddings.pickle\", \"wb\"))\n",
    "unknown_embeddings = pickle.load(open(\"cache/unknown_embeddings.pickle\", \"rb\"))"
   ]
  },
  {
   "cell_type": "code",
   "execution_count": null,
   "id": "272e88fd",
   "metadata": {},
   "outputs": [],
   "source": [
    "plot_results(searcher, unknown_imgs, unknown_embeddings, unknown_class_names, k=19, threshold=0.0)"
   ]
  },
  {
   "cell_type": "code",
   "execution_count": null,
   "id": "87643b05",
   "metadata": {},
   "outputs": [],
   "source": [
    "search_from_path(searcher, unknown_paths[0]), unknown_paths[0]"
   ]
  },
  {
   "cell_type": "code",
   "execution_count": null,
   "id": "671ab6de",
   "metadata": {},
   "outputs": [],
   "source": [
    "ks = [1,3,5,7,9]\n",
    "rejection_accs = []\n",
    "for k in ks:\n",
    "    acc = calculate_rejection_accuracy(searcher, unknown_embeddings, k=k, threshold=0.78)\n",
    "    rejection_accs.append(acc)\n",
    "    print(f\"k: {k}  rejection_acc: {acc:.04f}\")\n",
    "plt.plot(ks, rejection_accs)\n",
    "plt.xlabel(\"k\")\n",
    "plt.ylabel(\"accuracy\")\n",
    "plt.title(\"Rejection accuracy as function of k\")\n",
    "plt.show()"
   ]
  },
  {
   "cell_type": "markdown",
   "id": "9463d417",
   "metadata": {},
   "source": [
    "## Plot test and rejection accuracy"
   ]
  },
  {
   "cell_type": "code",
   "execution_count": null,
   "id": "4a34852e",
   "metadata": {},
   "outputs": [],
   "source": [
    "k = 5\n",
    "thresholds = np.linspace(0.75, 0.85, 11)\n",
    "# rejections_accs = []\n",
    "# test_accs = []\n",
    "# for threshold in thresholds:\n",
    "#     rejection_acc = calculate_rejection_accuracy(searcher, unknown_embeddings, k=k, threshold=threshold)\n",
    "#     test_acc, _, _, _, _ = search_accuracy(\n",
    "#         searcher, test_embeddings, test_class_names, k=k, threshold=threshold)\n",
    "#     rejection_accs.append(rejection_acc)\n",
    "#     test_accs.append(test_acc)\n",
    "rejection_accs = [calculate_rejection_accuracy(searcher, unknown_embeddings, k=k, threshold=threshold) for threshold in thresholds]\n",
    "test_accs = [search_accuracy(searcher, test_embeddings, test_class_names, k=k, threshold=threshold)[0] for threshold in thresholds]"
   ]
  },
  {
   "cell_type": "code",
   "execution_count": null,
   "id": "26740e8c",
   "metadata": {},
   "outputs": [],
   "source": [
    "plt.plot(thresholds, rejection_accs, 'r', label='rejection accuracy')\n",
    "plt.plot(thresholds, test_accs, 'b', label='test accuracy')\n",
    "plt.xlabel(\"distance threshold\")\n",
    "plt.ylabel(\"accuracy\")\n",
    "plt.legend()\n",
    "plt.show()"
   ]
  },
  {
   "cell_type": "code",
   "execution_count": null,
   "id": "2fd479d9",
   "metadata": {},
   "outputs": [],
   "source": [
    "plt.plot(thresholds, np.array(rejection_accs)*np.array(test_accs))\n",
    "plt.show()"
   ]
  },
  {
   "cell_type": "code",
   "execution_count": null,
   "id": "dd4c99e6",
   "metadata": {},
   "outputs": [],
   "source": []
  }
 ],
 "metadata": {
  "kernelspec": {
   "display_name": "dog",
   "language": "python",
   "name": "dog"
  },
  "language_info": {
   "codemirror_mode": {
    "name": "ipython",
    "version": 3
   },
   "file_extension": ".py",
   "mimetype": "text/x-python",
   "name": "python",
   "nbconvert_exporter": "python",
   "pygments_lexer": "ipython3",
   "version": "3.8.10"
  }
 },
 "nbformat": 4,
 "nbformat_minor": 5
}
