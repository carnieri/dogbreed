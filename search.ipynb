{
 "cells": [
  {
   "cell_type": "code",
   "execution_count": null,
   "id": "09fc2782",
   "metadata": {},
   "outputs": [],
   "source": [
    "from fastai.vision.all import *\n",
    "from enroll import NaiveImageSearch, FaissImageSearch\n",
    "from utils import label_func, get_embedding"
   ]
  },
  {
   "cell_type": "code",
   "execution_count": null,
   "id": "d14e9800",
   "metadata": {},
   "outputs": [],
   "source": [
    "learn = load_learner(\"dogs/train/exported_resnext50_32x4d.pickle\")"
   ]
  },
  {
   "cell_type": "code",
   "execution_count": null,
   "id": "40b52fdd",
   "metadata": {},
   "outputs": [],
   "source": [
    "# searcher = NaiveImageSearch(learn)\n",
    "searcher = FaissImageSearch(learn)"
   ]
  },
  {
   "cell_type": "code",
   "execution_count": null,
   "id": "c3f77b27",
   "metadata": {},
   "outputs": [],
   "source": [
    "enroll_paths = get_image_files(\"dogs/recognition/enroll/\")"
   ]
  },
  {
   "cell_type": "code",
   "execution_count": null,
   "id": "d8363c93",
   "metadata": {},
   "outputs": [],
   "source": [
    "enroll_class_names = [label_func(p) for p in enroll_paths]"
   ]
  },
  {
   "cell_type": "code",
   "execution_count": null,
   "id": "1f907ece",
   "metadata": {},
   "outputs": [],
   "source": [
    "enroll_imgs = [PILImage.create(p) for p in enroll_paths]"
   ]
  },
  {
   "cell_type": "code",
   "execution_count": null,
   "id": "fabe6020",
   "metadata": {
    "scrolled": true
   },
   "outputs": [],
   "source": [
    "searcher.enroll_many(enroll_imgs[:100], enroll_class_names[:100])"
   ]
  },
  {
   "cell_type": "code",
   "execution_count": null,
   "id": "a36dde6f",
   "metadata": {},
   "outputs": [],
   "source": [
    "searcher.enroll_many(enroll_imgs[100:], enroll_class_names[100:])"
   ]
  },
  {
   "cell_type": "code",
   "execution_count": null,
   "id": "a82ea130",
   "metadata": {},
   "outputs": [],
   "source": [
    "test_paths = get_image_files(\"dogs/recognition/test/\")"
   ]
  },
  {
   "cell_type": "code",
   "execution_count": null,
   "id": "7fe807c2",
   "metadata": {},
   "outputs": [],
   "source": [
    "test_class_names = [label_func(p) for p in test_paths]"
   ]
  },
  {
   "cell_type": "code",
   "execution_count": null,
   "id": "74ae09ae",
   "metadata": {},
   "outputs": [],
   "source": [
    "test_imgs = [PILImage.create(p) for p in test_paths]"
   ]
  },
  {
   "cell_type": "code",
   "execution_count": null,
   "id": "e4f531be",
   "metadata": {},
   "outputs": [],
   "source": [
    "def search_faiss(searcher, path, k=3):\n",
    "    img = PILImage.create(path)\n",
    "    ds, ixs, names = searcher.search(img, k=k)\n",
    "    return ds, ixs, names"
   ]
  },
  {
   "cell_type": "code",
   "execution_count": null,
   "id": "3f86ef59",
   "metadata": {},
   "outputs": [],
   "source": [
    "search_faiss(searcher, test_paths[200])"
   ]
  },
  {
   "cell_type": "code",
   "execution_count": null,
   "id": "2705e320",
   "metadata": {},
   "outputs": [],
   "source": [
    "def search(searcher, path, k=3):\n",
    "    img = PILImage.create(path)\n",
    "    ds, ixs, names = searcher.search(img, k=k)\n",
    "    print(list(zip(ds, ixs, names)))\n",
    "    print(f\"query: {label_func(path)}\")\n",
    "    show_image(PILImage.create(path))\n",
    "    for i in range(k):\n",
    "        print(f\"result: {names[i]}\")\n",
    "        show_image(searcher.imgs[ixs[i]])"
   ]
  },
  {
   "cell_type": "code",
   "execution_count": null,
   "id": "ea77ea50",
   "metadata": {},
   "outputs": [],
   "source": [
    "# measure accuracy on test set for k=1 nearest neighbor\n",
    "def search_accuracy(imgs, embeddings, class_names):\n",
    "    distances_correct = []\n",
    "    distances_incorrect = []\n",
    "    distances_all = []\n",
    "    correct = 0\n",
    "    for i in range(len(imgs)):\n",
    "        if i % 100 == 0:\n",
    "            print(i)\n",
    "        ds, ixs, names = searcher.search_from_vector(np.expand_dims(embeddings[i], axis=0), k=1)\n",
    "        if names[0] == class_names[i]:\n",
    "            correct += 1\n",
    "            distances_correct.append(ds[0])\n",
    "        else:\n",
    "            distances_incorrect.append(ds[0])\n",
    "        distances_all.append(ds[0])\n",
    "    acc = float(correct) / len(imgs)\n",
    "    print(f\"acc: {acc}\")\n",
    "    distances_all = np.array(distances_all)\n",
    "    distances_correct = np.array(distances_correct)\n",
    "    distances_incorrect = np.array(distances_incorrect)\n",
    "    return acc, distances_all, distances_correct, distances_incorrect"
   ]
  },
  {
   "cell_type": "code",
   "execution_count": null,
   "id": "85fc5846",
   "metadata": {},
   "outputs": [],
   "source": [
    "# test_embeddings = get_embedding(searcher.learn, searcher.embedder, test_imgs)\n",
    "# pickle.dump(test_embeddings, open(\"test_embeddings.pickle\", \"wb\"))\n",
    "test_embeddings = pickle.load(open(\"test_embeddings.pickle\", \"rb\"))"
   ]
  },
  {
   "cell_type": "code",
   "execution_count": null,
   "id": "0b1906ec",
   "metadata": {},
   "outputs": [],
   "source": [
    "acc, distances_all, distances_correct, distances_incorrect = search_accuracy(test_imgs, test_embeddings, test_class_names)"
   ]
  },
  {
   "cell_type": "markdown",
   "id": "f6a3b647",
   "metadata": {},
   "source": [
    "## Plot distances"
   ]
  },
  {
   "cell_type": "code",
   "execution_count": null,
   "id": "d0299268",
   "metadata": {},
   "outputs": [],
   "source": [
    "%matplotlib inline\n",
    "import matplotlib.pyplot as plt"
   ]
  },
  {
   "cell_type": "code",
   "execution_count": null,
   "id": "09a62e04",
   "metadata": {},
   "outputs": [],
   "source": [
    "def plot_results(imgs, embeddings, class_names):\n",
    "    acc, distances_all, distances_correct, distances_incorrect = search_accuracy(imgs, embeddings, class_names)\n",
    "    plt.plot(distances_all)\n",
    "    plt.axis([0, len(distances_all), 0, 1.0])\n",
    "    plt.show()"
   ]
  },
  {
   "cell_type": "code",
   "execution_count": null,
   "id": "24b59057",
   "metadata": {},
   "outputs": [],
   "source": [
    "plot_results(test_imgs, test_embeddings, test_class_names)"
   ]
  },
  {
   "cell_type": "markdown",
   "id": "eef94665",
   "metadata": {},
   "source": [
    "## Search for unknown breed"
   ]
  },
  {
   "cell_type": "code",
   "execution_count": null,
   "id": "490cc98c",
   "metadata": {},
   "outputs": [],
   "source": [
    "unknown_paths = get_image_files(\"dogs/recognition/unknown/test\")\n",
    "unknown_class_names = [label_func(p) for p in unknown_paths]\n",
    "unknown_imgs = [PILImage.create(p) for p in unknown_paths]\n",
    "unknown_embeddings = get_embedding(searcher.learn, searcher.embedder, unknown_imgs)\n",
    "pickle.dump(unknown_embeddings, open(\"unknown_embeddings.pickle\", \"wb\"))\n",
    "# unknown_embeddings = pickle.load(open(\"unknown_embeddings.pickle\", \"rb\"))"
   ]
  },
  {
   "cell_type": "code",
   "execution_count": null,
   "id": "655724a5",
   "metadata": {},
   "outputs": [],
   "source": [
    "plot_results(unknown_imgs, unknown_embeddings, unknown_class_names)"
   ]
  },
  {
   "cell_type": "code",
   "execution_count": null,
   "id": "8e5efb98",
   "metadata": {},
   "outputs": [],
   "source": [
    "search_faiss(searcher, unknown_paths[0])"
   ]
  }
 ],
 "metadata": {
  "kernelspec": {
   "display_name": "dog",
   "language": "python",
   "name": "dog"
  },
  "language_info": {
   "codemirror_mode": {
    "name": "ipython",
    "version": 3
   },
   "file_extension": ".py",
   "mimetype": "text/x-python",
   "name": "python",
   "nbconvert_exporter": "python",
   "pygments_lexer": "ipython3",
   "version": "3.8.10"
  }
 },
 "nbformat": 4,
 "nbformat_minor": 5
}
