{
 "cells": [
  {
   "cell_type": "code",
   "execution_count": null,
   "id": "48ea2d60",
   "metadata": {},
   "outputs": [],
   "source": [
    "from fastai.vision.all import *\n",
    "\n",
    "from utils import get_embedding, label_func\n",
    "\n",
    "from importlib import reload\n",
    "import search\n",
    "reload(search)\n",
    "from search import FaissImageSearch, search_from_path, search_accuracy, plot_results, calculate_rejection_accuracy"
   ]
  },
  {
   "cell_type": "code",
   "execution_count": null,
   "id": "531a1729",
   "metadata": {},
   "outputs": [],
   "source": [
    "learn = load_learner(\"models/exported_resnext50_32x4d.pickle\")"
   ]
  },
  {
   "cell_type": "code",
   "execution_count": null,
   "id": "a4b9486e",
   "metadata": {},
   "outputs": [],
   "source": [
    "searcher = FaissImageSearch(learn)"
   ]
  },
  {
   "cell_type": "code",
   "execution_count": null,
   "id": "da3e09e0",
   "metadata": {},
   "outputs": [],
   "source": [
    "enroll_paths = get_image_files(\"dogs/recognition/enroll/\")"
   ]
  },
  {
   "cell_type": "code",
   "execution_count": null,
   "id": "96793054",
   "metadata": {},
   "outputs": [],
   "source": [
    "enroll_class_names = [label_func(p) for p in enroll_paths]"
   ]
  },
  {
   "cell_type": "code",
   "execution_count": null,
   "id": "4be4d672",
   "metadata": {},
   "outputs": [],
   "source": [
    "enroll_imgs = [PILImage.create(p) for p in enroll_paths]"
   ]
  },
  {
   "cell_type": "code",
   "execution_count": null,
   "id": "426c67a5",
   "metadata": {
    "scrolled": true
   },
   "outputs": [],
   "source": [
    "searcher.enroll_many(enroll_imgs, enroll_class_names)"
   ]
  },
  {
   "cell_type": "code",
   "execution_count": null,
   "id": "674d6049",
   "metadata": {},
   "outputs": [],
   "source": [
    "searcher.dump(\"models\")"
   ]
  },
  {
   "cell_type": "code",
   "execution_count": null,
   "id": "ffc0c64c",
   "metadata": {},
   "outputs": [],
   "source": [
    "test_paths = get_image_files(\"dogs/recognition/test/\")"
   ]
  },
  {
   "cell_type": "code",
   "execution_count": null,
   "id": "cfbc645b",
   "metadata": {},
   "outputs": [],
   "source": [
    "test_class_names = [label_func(p) for p in test_paths]"
   ]
  },
  {
   "cell_type": "code",
   "execution_count": null,
   "id": "eeba109c",
   "metadata": {},
   "outputs": [],
   "source": [
    "test_imgs = [PILImage.create(p) for p in test_paths]"
   ]
  },
  {
   "cell_type": "code",
   "execution_count": null,
   "id": "3985b6bc",
   "metadata": {},
   "outputs": [],
   "source": [
    "# test_embeddings = get_embedding(searcher.learn, searcher.embedder, test_imgs)\n",
    "# Path(\"cache\").mkdir(exist_ok=True)\n",
    "# pickle.dump(test_embeddings, open(\"cache/test_embeddings.pickle\", \"wb\"))\n",
    "test_embeddings = pickle.load(open(\"cache/test_embeddings.pickle\", \"rb\"))"
   ]
  },
  {
   "cell_type": "code",
   "execution_count": null,
   "id": "6b8862f2",
   "metadata": {},
   "outputs": [],
   "source": [
    "search_from_path(searcher, test_paths[100])"
   ]
  },
  {
   "cell_type": "code",
   "execution_count": null,
   "id": "ffbcb8d4",
   "metadata": {},
   "outputs": [],
   "source": [
    "# calculate test accuracy for some values of hyperparameter k\n",
    "# k is the number of nearest neighbors used when searching\n",
    "for k in [1, 3, 5, 7, 9]:\n",
    "    acc, dist_all, dist_correct, dist_incorrect, dist_empty = search_accuracy(searcher, test_imgs, test_embeddings, test_class_names, k=k)\n",
    "    print(f\"k: {k}  acc: {acc:.04f}\")"
   ]
  },
  {
   "cell_type": "markdown",
   "id": "51f6aa97",
   "metadata": {},
   "source": [
    "## Plot distances"
   ]
  },
  {
   "cell_type": "code",
   "execution_count": null,
   "id": "3cf66b80",
   "metadata": {},
   "outputs": [],
   "source": [
    "%matplotlib inline\n",
    "import matplotlib.pyplot as plt"
   ]
  },
  {
   "cell_type": "code",
   "execution_count": null,
   "id": "ec7325e6",
   "metadata": {},
   "outputs": [],
   "source": [
    "plot_results(searcher, test_imgs, test_embeddings, test_class_names)"
   ]
  },
  {
   "cell_type": "markdown",
   "id": "e7832eb3",
   "metadata": {},
   "source": [
    "## Find suitable distance threshold"
   ]
  },
  {
   "cell_type": "code",
   "execution_count": null,
   "id": "3e6d9b68",
   "metadata": {},
   "outputs": [],
   "source": [
    "k = 5\n",
    "accs = []\n",
    "threshs = np.linspace(0.7, 0.8, num=50, endpoint=False)\n",
    "for thresh in threshs:\n",
    "    acc, dist_all, dist_correct, dist_incorrect, dist_empty = search_accuracy(\n",
    "        searcher,\n",
    "        test_imgs,\n",
    "        test_embeddings,\n",
    "        test_class_names,\n",
    "        k=k,\n",
    "        threshold=thresh\n",
    "    )\n",
    "    accs.append(acc)\n",
    "    print(f\"k: {k}  thresh: {thresh:.04f}  acc: {acc:.04f}\")\n",
    "plt.plot(threshs, accs)\n",
    "plt.show()"
   ]
  },
  {
   "cell_type": "markdown",
   "id": "ed846e78",
   "metadata": {},
   "source": [
    "## Search for unknown breed"
   ]
  },
  {
   "cell_type": "code",
   "execution_count": null,
   "id": "dbbf7b3a",
   "metadata": {},
   "outputs": [],
   "source": [
    "unknown_breeds = [\n",
    "    \"n02111500-Great_Pyrenees\",\n",
    "    \"n02111889-Samoyed\",\n",
    "    \"n02113186-Cardigan\",\n",
    "    \"n02113978-Mexican_hairless\",\n",
    "    \"n02116738-African_hunting_dog\",\n",
    "]"
   ]
  },
  {
   "cell_type": "code",
   "execution_count": null,
   "id": "bd3f86de",
   "metadata": {},
   "outputs": [],
   "source": [
    "enroll_paths = get_image_files(\"dogs/recognition/enroll/\")\n",
    "enroll_paths = [p for p in enroll_paths if p.parent.name not in unknown_breeds]"
   ]
  },
  {
   "cell_type": "code",
   "execution_count": null,
   "id": "cac7a724",
   "metadata": {},
   "outputs": [],
   "source": [
    "unknown_paths = get_image_files(\"dogs/recognition/unknown/test\")\n",
    "unknown_class_names = [label_func(p) for p in unknown_paths]\n",
    "unknown_imgs = [PILImage.create(p) for p in unknown_paths]\n",
    "unknown_embeddings = get_embedding(searcher.learn, searcher.embedder, unknown_imgs)\n",
    "pickle.dump(unknown_embeddings, open(\"cache/unknown_embeddings.pickle\", \"wb\"))\n",
    "# unknown_embeddings = pickle.load(open(\"cache/unknown_embeddings.pickle\", \"rb\"))"
   ]
  },
  {
   "cell_type": "code",
   "execution_count": null,
   "id": "272e88fd",
   "metadata": {},
   "outputs": [],
   "source": [
    "plot_results(unknown_imgs, unknown_embeddings, unknown_class_names)"
   ]
  },
  {
   "cell_type": "code",
   "execution_count": null,
   "id": "87643b05",
   "metadata": {},
   "outputs": [],
   "source": [
    "search_from_path(searcher, unknown_paths[0])"
   ]
  },
  {
   "cell_type": "code",
   "execution_count": null,
   "id": "671ab6de",
   "metadata": {},
   "outputs": [],
   "source": [
    "calculate_rejection_accuracy(unknown_imgs, unknown_embeddings, unknown_class_names)"
   ]
  }
 ],
 "metadata": {
  "kernelspec": {
   "display_name": "dog",
   "language": "python",
   "name": "dog"
  },
  "language_info": {
   "codemirror_mode": {
    "name": "ipython",
    "version": 3
   },
   "file_extension": ".py",
   "mimetype": "text/x-python",
   "name": "python",
   "nbconvert_exporter": "python",
   "pygments_lexer": "ipython3",
   "version": "3.8.10"
  }
 },
 "nbformat": 4,
 "nbformat_minor": 5
}
